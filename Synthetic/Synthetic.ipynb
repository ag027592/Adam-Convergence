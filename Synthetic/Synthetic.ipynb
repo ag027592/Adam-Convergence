{
 "cells": [
  {
   "cell_type": "markdown",
   "metadata": {},
   "source": [
    "# Synthetic experiment\n",
    "This notebook reproduces the *synthetic experiments* described in Section 5 of the paper titled \"On the convergence of ADAM and beyond\" (Reddi, Kale and Kumar 2018).\n",
    "\n",
    "## Imports\n",
    "\n",
    "The following modules are necessary to run this notebook:"
   ]
  },
  {
   "cell_type": "code",
   "execution_count": 1,
   "metadata": {},
   "outputs": [],
   "source": [
    "import math\n",
    "import numpy as np\n",
    "import matplotlib.pyplot as plt\n",
    "import random"
   ]
  },
  {
   "cell_type": "markdown",
   "metadata": {},
   "source": [
    "## Projection operation\n",
    "\n",
    "Below is the implementation of the project operation $\\Pi_{\\mathcal{F},A}(y)$, defined as:\n",
    "\n",
    "$\\Pi_{\\mathcal{F},A}(y) = argmin_{x \\in \\mathcal{F}} \\mid A^{1/2}(x - y)\\mid$\n",
    "\n",
    "in a univariuate setup."
   ]
  },
  {
   "cell_type": "code",
   "execution_count": 2,
   "metadata": {},
   "outputs": [],
   "source": [
    "def project(F, A, y):\n",
    "    if F is not None:\n",
    "        F = np.array(F)\n",
    "        norms = np.abs((F - y).dot(math.sqrt(A)))\n",
    "        return F[np.argmin(norms)]\n",
    "    else:\n",
    "        return y"
   ]
  },
  {
   "cell_type": "markdown",
   "metadata": {},
   "source": [
    "## ADAM\n",
    "\n",
    "We implement the ADAM algorithm. Since this experiment is done in an univariate setup, this implementation only works for such setups (i.e. only one parameter to update)."
   ]
  },
  {
   "cell_type": "code",
   "execution_count": 3,
   "metadata": {},
   "outputs": [],
   "source": [
    "class Adam:\n",
    "\n",
    "    def __init__(self, step_size=0.001, beta1=0.9, beta2=0.99, x_range=None):\n",
    "        self.step_size = step_size\n",
    "        self.beta1 = beta1\n",
    "        self.beta2 = beta2\n",
    "        self.x_range = x_range\n",
    "        self.mt = 0\n",
    "        self.vt = 0\n",
    "\n",
    "    def update(self, x, grad):\n",
    "        self.mt = self.beta1 * self.mt + (1 - self.beta1) * grad\n",
    "        self.vt = self.beta2 * self.vt + (1 - self.beta2) * grad**2\n",
    "        update = self.step_size * self.mt / math.sqrt(self.vt)\n",
    "        return project(self.x_range, math.sqrt(self.vt), x - update)"
   ]
  },
  {
   "cell_type": "markdown",
   "metadata": {},
   "source": [
    "## AMSgrad\n",
    "\n",
    "We then implement AMSgrad, again for a univariate setup.\n",
    "The pseudocode is provided in the Algorithm 2 of the paper."
   ]
  },
  {
   "cell_type": "code",
   "execution_count": 4,
   "metadata": {},
   "outputs": [],
   "source": [
    "class AMSgrad:\n",
    "\n",
    "    def __init__(self, step_size=0.001, beta1=0.9, beta2=0.99, x_range=None):\n",
    "        self.step_size = step_size\n",
    "        self.beta1 = beta1\n",
    "        self.beta2 = beta2\n",
    "        self.x_range = x_range\n",
    "        self.mt = 0\n",
    "        self.vt = 0\n",
    "\n",
    "    def update(self, x, grad):\n",
    "        self.mt = self.beta1 * self.mt + (1 - self.beta1) * grad\n",
    "        self.vt = max(self.vt, self.beta2 * self.vt + (1 - self.beta2) * grad**2)\n",
    "        update = self.step_size * self.mt / math.sqrt(self.vt)\n",
    "        return project(self.x_range, math.sqrt(self.vt), x + update)"
   ]
  },
  {
   "cell_type": "markdown",
   "metadata": {},
   "source": [
    "## Gradient"
   ]
  },
  {
   "cell_type": "code",
   "execution_count": 5,
   "metadata": {},
   "outputs": [],
   "source": [
    "def computeGradient(t, online=True):\n",
    "    if online:\n",
    "        # Online\n",
    "        return 1010 if t + 1 % 101 == 0 else -10\n",
    "    else:\n",
    "        # Stochastic\n",
    "        return 1010 if random.randint(1,101) == 100 else -10"
   ]
  },
  {
   "cell_type": "markdown",
   "metadata": {},
   "source": [
    "## Experiment"
   ]
  },
  {
   "cell_type": "code",
   "execution_count": 10,
   "metadata": {},
   "outputs": [
    {
     "data": {
      "image/png": "[encoded data removed]",
      "text/plain": [
       "<matplotlib.figure.Figure at 0x20e2ab675f8>"
      ]
     },
     "metadata": {},
     "output_type": "display_data"
    }
   ],
   "source": [
    "T = 100000\n",
    "\n",
    "iterations = np.arange(0, T, 1)\n",
    "x_range = np.arange(-1, 1.001, 0.001)\n",
    "x_adam, x_amsg = 0, 0\n",
    "xt_adam, xt_amsg = [], []\n",
    "\n",
    "adam = Adam(x_range=x_range)\n",
    "amsg = AMSgrad(x_range=x_range)\n",
    "\n",
    "for t in iterations:    \n",
    "    grad = computeGradient(t)\n",
    "    x_adam = adam.update(x_adam, grad)\n",
    "    x_amsg = amsg.update(x_amsg, grad)\n",
    "\n",
    "    xt_adam.append(x_adam)\n",
    "    xt_amsg.append(x_amsg)\n",
    "\n",
    "plt.plot(iterations, xt_adam, label='ADAM')\n",
    "plt.plot(iterations, xt_amsg, label='AMSgrad')\n",
    "plt.legend()\n",
    "plt.show()"
   ]
  }
 ],
 "metadata": {
  "kernelspec": {
   "display_name": "Python 3",
   "language": "python",
   "name": "python3"
  },
  "language_info": {
   "codemirror_mode": {
    "name": "ipython",
    "version": 3
   },
   "file_extension": ".py",
   "mimetype": "text/x-python",
   "name": "python",
   "nbconvert_exporter": "python",
   "pygments_lexer": "ipython3",
   "version": "3.6.4"
  }
 },
 "nbformat": 4,
 "nbformat_minor": 2
}
