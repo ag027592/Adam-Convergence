{
 "cells": [
  {
   "cell_type": "markdown",
   "metadata": {},
   "source": [
    "# Synthetic experiment\n",
    "This notebook reproduces the *synthetic experiments* described in Section 5 of the paper titled \"On the convergence of ADAM and beyond\" (Reddi, Kale and Kumar 2018).\n",
    "\n",
    "## Imports"
   ]
  },
  {
   "cell_type": "code",
   "execution_count": 1,
   "metadata": {},
   "outputs": [],
   "source": [
    "import math\n",
    "import numpy as np\n",
    "import matplotlib.pyplot as plt"
   ]
  },
  {
   "cell_type": "markdown",
   "metadata": {},
   "source": [
    "## Optimizer"
   ]
  },
  {
   "cell_type": "code",
   "execution_count": 2,
   "metadata": {},
   "outputs": [],
   "source": [
    "class Adam:\n",
    "\n",
    "    def __init__(self, amsgrad=False, beta1=0.9, beta2=0.99):\n",
    "        self.amsgrad = amsgrad\n",
    "        self.beta1 = beta1\n",
    "        self.beta2 = beta2\n",
    "        self.m = 0\n",
    "        self.v = 0\n",
    "\n",
    "    def update(self, x, grad, lr):\n",
    "        self.m = self.beta1 * self.m + (1 - self.beta1) * grad\n",
    "        v = self.beta2 * self.v + (1 - self.beta2) * grad**2\n",
    "\n",
    "        if not self.amsgrad:\n",
    "            self.v = v\n",
    "        else:\n",
    "            self.v = max(self.v, v)\n",
    "\n",
    "        update = lr * self.m / math.sqrt(self.v)\n",
    "        return np.clip(x - update, -1, 1)\n"
   ]
  },
  {
   "cell_type": "markdown",
   "metadata": {},
   "source": [
    "## Experiment"
   ]
  },
  {
   "cell_type": "code",
   "execution_count": 3,
   "metadata": {},
   "outputs": [
    {
     "data": {
      "image/png": "[encoded data removed]",
      "text/plain": [
       "<matplotlib.figure.Figure at 0x2b5b7048f28>"
      ]
     },
     "metadata": {},
     "output_type": "display_data"
    },
    {
     "data": {
      "image/png": "[encoded data removed]",
      "text/plain": [
       "<matplotlib.figure.Figure at 0x2b5b7ab0c88>"
      ]
     },
     "metadata": {},
     "output_type": "display_data"
    }
   ],
   "source": [
    "T = 100000\n",
    "stochastic = False\n",
    "\n",
    "iterations = np.arange(1, T + 1, 1)\n",
    "adam = Adam()\n",
    "amsg = Adam(amsgrad=True)\n",
    "\n",
    "xs_adam, xs_amsg = [], []\n",
    "regrets_adam, regrets_amsg = [], []\n",
    "\n",
    "x_adam, x_amsg = 0, 0\n",
    "loss_adam, loss_amsg, loss_opti = 0, 0, 0\n",
    "\n",
    "for t in iterations:\n",
    "    lr_t = 1 / math.sqrt(t)\n",
    "\n",
    "    if stochastic:\n",
    "        grad = (1010 if np.random.randint(0, 1000) == 0 else -10)\n",
    "    else:\n",
    "        grad = (1010 if t % 101 == 1 else -10)\n",
    "\n",
    "    x_adam = adam.update(x_adam, grad, lr_t)\n",
    "    x_amsg = amsg.update(x_amsg, grad, lr_t)\n",
    "\n",
    "    xs_adam.append(x_adam)\n",
    "    xs_amsg.append(x_amsg)\n",
    "\n",
    "    loss_adam += grad * x_adam\n",
    "    loss_amsg += grad * x_amsg\n",
    "    loss_opti += grad * -1\n",
    "\n",
    "    regrets_adam.append((loss_adam - loss_opti) / t)\n",
    "    regrets_amsg.append((loss_amsg - loss_opti) / t)\n",
    "\n",
    "plt.xlabel('iterations')\n",
    "plt.ylabel('xt')\n",
    "plt.plot(iterations, xs_adam, label='ADAM')\n",
    "plt.plot(iterations, xs_amsg, label='AMSgrad')\n",
    "plt.legend()\n",
    "plt.show()\n",
    "\n",
    "plt.xlabel('iterations')\n",
    "plt.ylabel('Rt/t')\n",
    "plt.plot(iterations, regrets_adam, label='ADAM')\n",
    "plt.plot(iterations, regrets_amsg, label='AMSgrad')\n",
    "plt.legend()\n",
    "plt.show()\n"
   ]
  }
 ],
 "metadata": {
  "kernelspec": {
   "display_name": "Python 3",
   "language": "python",
   "name": "python3"
  },
  "language_info": {
   "codemirror_mode": {
    "name": "ipython",
    "version": 3
   },
   "file_extension": ".py",
   "mimetype": "text/x-python",
   "name": "python",
   "nbconvert_exporter": "python",
   "pygments_lexer": "ipython3",
   "version": "3.6.4"
  }
 },
 "nbformat": 4,
 "nbformat_minor": 2
}
